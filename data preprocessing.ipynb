{
 "cells": [
  {
   "cell_type": "code",
   "execution_count": 1,
   "id": "e21347ae-f27c-4eb9-ad50-28a22d6d2790",
   "metadata": {},
   "outputs": [],
   "source": [
    "import numpy as np\n",
    "import pandas as pd"
   ]
  },
  {
   "cell_type": "code",
   "execution_count": 2,
   "id": "82a4b684-2ae3-4a5f-983a-0b6823a797ae",
   "metadata": {},
   "outputs": [
    {
     "name": "stdout",
     "output_type": "stream",
     "text": [
      "CPU times: user 25 ms, sys: 3.89 ms, total: 28.9 ms\n",
      "Wall time: 32.8 ms\n"
     ]
    }
   ],
   "source": [
    "%%time\n",
    "stock_file_name = 'data/sp500_3yrs.csv'\n",
    "df = pd.read_csv(stock_file_name, index_col=0, parse_dates=True)"
   ]
  },
  {
   "cell_type": "code",
   "execution_count": 3,
   "id": "2853a65c-3ef6-475d-8904-92a943ab561c",
   "metadata": {},
   "outputs": [
    {
     "name": "stdout",
     "output_type": "stream",
     "text": [
      "<class 'pandas.core.frame.DataFrame'>\n",
      "DatetimeIndex: 754 entries, 2022-10-17 to 2025-10-17\n",
      "Columns: 503 entries, A to ZTS\n",
      "dtypes: float64(503)\n",
      "memory usage: 2.9 MB\n"
     ]
    }
   ],
   "source": [
    "df.info()"
   ]
  },
  {
   "cell_type": "code",
   "execution_count": 4,
   "id": "1a6fc362-a6e7-4176-8161-017423f3b532",
   "metadata": {},
   "outputs": [],
   "source": [
    "stocks = df.columns.to_list()\n",
    "stocks = [s.replace('-', '_') for s in stocks]\n",
    "df.columns = stocks"
   ]
  },
  {
   "cell_type": "code",
   "execution_count": 5,
   "id": "1d08250a-335e-4c28-9314-395d54b05ee2",
   "metadata": {},
   "outputs": [
    {
     "data": {
      "text/plain": [
       "['GEHC', 'GEV', 'KVUE', 'SOLV', 'VLTO']"
      ]
     },
     "execution_count": 5,
     "metadata": {},
     "output_type": "execute_result"
    }
   ],
   "source": [
    "stocks_with_missing_data = df.columns[df.isna().any()].tolist()\n",
    "stocks_with_missing_data"
   ]
  },
  {
   "cell_type": "code",
   "execution_count": 6,
   "id": "2dfdbf60-30d1-4de9-8476-0b8ef5b13d0b",
   "metadata": {},
   "outputs": [
    {
     "name": "stdout",
     "output_type": "stream",
     "text": [
      "GEHC is missing from 2022-10-17 to 2022-12-14.\n",
      "GEV is missing from 2022-10-17 to 2024-03-26.\n",
      "KVUE is missing from 2022-10-17 to 2023-05-03.\n",
      "SOLV is missing from 2022-10-17 to 2024-03-25.\n",
      "VLTO is missing from 2022-10-17 to 2023-10-03.\n"
     ]
    }
   ],
   "source": [
    "for col in stocks_with_missing_data:\n",
    "    missing_dates = df[df[col].isna()].index\n",
    "    print('{} is missing from {} to {}.'.format(col, missing_dates[0].date(), missing_dates[-1].date()))"
   ]
  },
  {
   "cell_type": "markdown",
   "id": "fc8746d7-2751-4f79-8f03-424ac75b1477",
   "metadata": {},
   "source": [
    "Note that some stocks will have NaNs for early dates if they weren’t yet public.  \n",
    "\n",
    "Models working with such datasets have two options:\n",
    "\n",
    "1. Eliminate these columns entirely if the time period is critical for the analysis, ignoring stocks with short time series.\n",
    "\n",
    "2. Use only the data from when the stocks were listed, so that there are no empty columns in the dataset.\n",
    "\n",
    "However, since the latest missing data among these stocks extends up to 2024-03-26, option #2 would discard a large portion of the data. Therefore, I decided to drop these stocks entirely from the dataset."
   ]
  },
  {
   "cell_type": "code",
   "execution_count": 7,
   "id": "60b8d2fa-67ad-4cf8-bd5d-215f76641cc1",
   "metadata": {},
   "outputs": [],
   "source": [
    "df.drop(columns=stocks_with_missing_data, inplace=True)"
   ]
  },
  {
   "cell_type": "code",
   "execution_count": 14,
   "id": "8edac34e-4422-47e7-b690-04707c8f3e15",
   "metadata": {},
   "outputs": [
    {
     "name": "stdout",
     "output_type": "stream",
     "text": [
      "No NaNs remaining\n",
      "Number of stocks in S&P 500: 498\n"
     ]
    }
   ],
   "source": [
    "if not df.isna().any().any():\n",
    "    print('No NaNs remaining')\n",
    "    print('Number of stocks in S&P 500: {}'.format(len(df.columns)))"
   ]
  },
  {
   "cell_type": "code",
   "execution_count": 9,
   "id": "ba73fecf-0f5a-492e-a3b5-fd0937906e71",
   "metadata": {},
   "outputs": [],
   "source": [
    "df.to_csv('data/clean_sp500_3yrs.csv')"
   ]
  }
 ],
 "metadata": {
  "kernelspec": {
   "display_name": "Python 3 (ipykernel)",
   "language": "python",
   "name": "python3"
  },
  "language_info": {
   "codemirror_mode": {
    "name": "ipython",
    "version": 3
   },
   "file_extension": ".py",
   "mimetype": "text/x-python",
   "name": "python",
   "nbconvert_exporter": "python",
   "pygments_lexer": "ipython3",
   "version": "3.11.13"
  }
 },
 "nbformat": 4,
 "nbformat_minor": 5
}
