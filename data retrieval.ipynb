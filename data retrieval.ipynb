{
 "cells": [
  {
   "cell_type": "code",
   "execution_count": 1,
   "id": "e1540725-68ec-4e89-ba5c-486309ce69dd",
   "metadata": {},
   "outputs": [],
   "source": [
    "import requests\n",
    "import numpy as np\n",
    "import pandas as pd\n",
    "import yfinance as yf\n",
    "from io import StringIO"
   ]
  },
  {
   "cell_type": "code",
   "execution_count": 2,
   "id": "33863ec2-f9dd-4b79-97e6-b54fc7edf8d8",
   "metadata": {},
   "outputs": [],
   "source": [
    "def get_sp500_tickers():\n",
    "    url = 'https://en.wikipedia.org/wiki/List_of_S%26P_500_companies'\n",
    "    \n",
    "    # makes the request pretend to be a regular Chrome browser on macOS\n",
    "    headers = {\n",
    "        'User-Agent': 'Mozilla/5.0 (Macintosh; Intel Mac OS X 10_15_7) AppleWebKit/537.36 (KHTML, like Gecko) Chrome/117.0.0.0 Safari/537.36'\n",
    "    }\n",
    "\n",
    "    response = requests.get(url, headers=headers)\n",
    "    \n",
    "    # check if the request is successful\n",
    "    try:\n",
    "        response.raise_for_status()\n",
    "        print('Request is successful!')\n",
    "    except requests.exceptions.HTTPError as e:\n",
    "        print('Request is unsuccessful:', e)\n",
    "\n",
    "    # response.text contains the full HTML of the webpage as a string\n",
    "    # StringIO(response.text) makes the HTML string look like a file that pandas can read\n",
    "    # scans HTML content for <table> tags and converts it into a DataFrame\n",
    "    tables = pd.read_html(StringIO(response.text))\n",
    "\n",
    "    # regex=False tells pandas to treat the string literally instead of interpreting it as a regex pattern\n",
    "    sp500_table = tables[0]\n",
    "    tickers = sp500_table['Symbol'].str.replace('.', '-', regex=False).tolist()\n",
    "    \n",
    "    print('Successfully retrieved {} S&P 500 tickers.'.format(len(tickers)))\n",
    "    return tickers"
   ]
  },
  {
   "cell_type": "code",
   "execution_count": 3,
   "id": "c7ed45cc-6003-4343-af94-4d55f4ca7049",
   "metadata": {},
   "outputs": [
    {
     "name": "stdout",
     "output_type": "stream",
     "text": [
      "Request is successful!\n",
      "Successfully retrieved 503 S&P 500 tickers.\n",
      "First 10 tickers: ['MMM', 'AOS', 'ABT', 'ABBV', 'ACN', 'ADBE', 'AMD', 'AES', 'AFL', 'A']\n"
     ]
    }
   ],
   "source": [
    "sp500_tickers = get_sp500_tickers()\n",
    "print('First 10 tickers:', sp500_tickers[:10])"
   ]
  },
  {
   "cell_type": "code",
   "execution_count": 4,
   "id": "23cced83-12f8-40b9-876e-376b2a8373b9",
   "metadata": {},
   "outputs": [
    {
     "name": "stderr",
     "output_type": "stream",
     "text": [
      "[*********************100%***********************]  503 of 503 completed\n"
     ]
    }
   ],
   "source": [
    "data = yf.download(sp500_tickers, start='2022-10-17', end='2025-10-18', auto_adjust=True)['Close']\n",
    "data.to_csv('data/sp500_3yrs.csv')"
   ]
  },
  {
   "cell_type": "code",
   "execution_count": 12,
   "id": "51a7ee0f-a7b4-4ca2-ab97-d13b12ed2098",
   "metadata": {},
   "outputs": [
    {
     "name": "stderr",
     "output_type": "stream",
     "text": [
      "[*********************100%***********************]  1 of 1 completed\n"
     ]
    }
   ],
   "source": [
    "index_data = yf.download('^GSPC', start='2022-10-17', end='2025-10-18', auto_adjust=True)\n",
    "\n",
    "if isinstance(index_data.columns, pd.MultiIndex):\n",
    "    index_data.columns = index_data.columns.get_level_values(0)\n",
    "\n",
    "index_data.to_csv('data/index_sp500_3yrs.csv')"
   ]
  }
 ],
 "metadata": {
  "kernelspec": {
   "display_name": "Python 3 (ipykernel)",
   "language": "python",
   "name": "python3"
  },
  "language_info": {
   "codemirror_mode": {
    "name": "ipython",
    "version": 3
   },
   "file_extension": ".py",
   "mimetype": "text/x-python",
   "name": "python",
   "nbconvert_exporter": "python",
   "pygments_lexer": "ipython3",
   "version": "3.11.13"
  }
 },
 "nbformat": 4,
 "nbformat_minor": 5
}
